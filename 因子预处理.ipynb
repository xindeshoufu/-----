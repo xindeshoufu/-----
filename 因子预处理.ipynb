{
 "cells": [
  {
   "cell_type": "code",
   "execution_count": null,
   "metadata": {},
   "outputs": [],
   "source": [
    "import numpy as np\n",
    "import pandas as pd"
   ]
  },
  {
   "cell_type": "markdown",
   "metadata": {},
   "source": [
    "# 获取基础数据"
   ]
  },
  {
   "cell_type": "code",
   "execution_count": null,
   "metadata": {},
   "outputs": [],
   "source": [
    "# 这里我们以中证500成份股为股票池\n",
    "# 日期：20190102 - 20220630\n",
    "# csv里为按日期和股票整理好的因子矩阵，是真实数据，因子值未经预处理"
   ]
  },
  {
   "cell_type": "code",
   "execution_count": null,
   "metadata": {},
   "outputs": [],
   "source": [
    "# 获取 ROA 数据\n",
    "roa = pd.read_csv('data/roa_ttm_zz500.csv', index_col=0)\n",
    "roa.head(2)"
   ]
  },
  {
   "cell_type": "code",
   "execution_count": null,
   "metadata": {
    "scrolled": true
   },
   "outputs": [],
   "source": [
    "# 查看是否有缺失值\n",
    "roa.isna().any().any()"
   ]
  },
  {
   "cell_type": "code",
   "execution_count": null,
   "metadata": {},
   "outputs": [],
   "source": [
    "# 获取中信一级行业分类信息\n",
    "industry_info = pd.read_csv('data/info_zz500.csv', index_col=0)\n",
    "industry_info.head(2)"
   ]
  },
  {
   "cell_type": "markdown",
   "metadata": {},
   "source": [
    "# 数据预处理"
   ]
  },
  {
   "cell_type": "code",
   "execution_count": null,
   "metadata": {},
   "outputs": [],
   "source": [
    "# 处理之前\n",
    "roa.T.describe()"
   ]
  },
  {
   "cell_type": "markdown",
   "metadata": {},
   "source": [
    "## 去极值"
   ]
  },
  {
   "cell_type": "code",
   "execution_count": null,
   "metadata": {},
   "outputs": [],
   "source": [
    "# 定义函数。for 循环也可以改为 pandas 的向量化操作\n",
    "\n",
    "def winsorize(df):\n",
    "    \"\"\"截断与中位数相距5个[离差中位数]以上的数值\"\"\"\n",
    "    new_data = []\n",
    "    for i in range(len(df)):\n",
    "        \n",
    "        df_i = df.iloc[i, :]\n",
    "        df_i_median = df_i.median()\n",
    "        mad = (df_i - df_i_median).abs().median()\n",
    "        \n",
    "        max_range = df_i_median + 5 * mad\n",
    "        min_range = df_i_median - 5 * mad\n",
    "        df_i_new = np.clip(df_i, min_range, max_range)\n",
    "        \n",
    "        new_data.append(df_i_new)\n",
    "        \n",
    "    new_df = pd.concat(new_data, axis=1).T\n",
    "    return new_df"
   ]
  },
  {
   "cell_type": "code",
   "execution_count": null,
   "metadata": {},
   "outputs": [],
   "source": [
    "roa1 = winsorize(roa)\n",
    "roa1.head(3)"
   ]
  },
  {
   "cell_type": "code",
   "execution_count": null,
   "metadata": {},
   "outputs": [],
   "source": [
    "roa1.T.describe()"
   ]
  },
  {
   "cell_type": "markdown",
   "metadata": {},
   "source": [
    "## 标准化"
   ]
  },
  {
   "cell_type": "code",
   "execution_count": null,
   "metadata": {},
   "outputs": [],
   "source": [
    "# 定义函数。for 循环也可以改为 pandas 的向量化操作\n",
    "\n",
    "def standardize(df):\n",
    "    new_data = []\n",
    "    for i in range(len(df)):\n",
    "        \n",
    "        df_i = df.iloc[i, :]\n",
    "        mu = df_i.mean()\n",
    "        sigma = df_i.std()\n",
    "        df_i_new = (df_i - mu) / sigma\n",
    "        \n",
    "        new_data.append(df_i_new)\n",
    "        \n",
    "    new_df = pd.concat(new_data, axis=1).T\n",
    "    return new_df"
   ]
  },
  {
   "cell_type": "code",
   "execution_count": null,
   "metadata": {},
   "outputs": [],
   "source": [
    "roa2 = standardize(roa1)\n",
    "roa2.head(3)"
   ]
  },
  {
   "cell_type": "code",
   "execution_count": null,
   "metadata": {},
   "outputs": [],
   "source": [
    "roa2.T.describe()"
   ]
  },
  {
   "cell_type": "markdown",
   "metadata": {},
   "source": [
    "## 缺失值处理（0填充）"
   ]
  },
  {
   "cell_type": "code",
   "execution_count": null,
   "metadata": {},
   "outputs": [],
   "source": [
    "roa3 = roa2.fillna(0)\n",
    "roa3.T.describe()"
   ]
  },
  {
   "cell_type": "code",
   "execution_count": null,
   "metadata": {},
   "outputs": [],
   "source": []
  }
 ],
 "metadata": {
  "kernelspec": {
   "display_name": "Python 3",
   "language": "python",
   "name": "python3"
  },
  "language_info": {
   "codemirror_mode": {
    "name": "ipython",
    "version": 3
   },
   "file_extension": ".py",
   "mimetype": "text/x-python",
   "name": "python",
   "nbconvert_exporter": "python",
   "pygments_lexer": "ipython3",
   "version": "3.7.0"
  },
  "toc": {
   "base_numbering": 1,
   "nav_menu": {},
   "number_sections": true,
   "sideBar": true,
   "skip_h1_title": false,
   "title_cell": "Table of Contents",
   "title_sidebar": "Contents",
   "toc_cell": false,
   "toc_position": {
    "height": "calc(100% - 180px)",
    "left": "10px",
    "top": "150px",
    "width": "165px"
   },
   "toc_section_display": true,
   "toc_window_display": false
  }
 },
 "nbformat": 4,
 "nbformat_minor": 4
}
